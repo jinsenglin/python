{
 "cells": [
  {
   "cell_type": "code",
   "execution_count": 36,
   "metadata": {},
   "outputs": [],
   "source": [
    "class Solution(object):\n",
    "    def _yield_adj_pos(self, board, click):\n",
    "        pos_y = click[0]\n",
    "        pos_x = click[1]\n",
    "        \n",
    "        top_y = 0\n",
    "        bottom_y = len(board)-1\n",
    "        #print('DEBUG: bottom_y = {0}'.format(bottom_y))\n",
    "        \n",
    "        left_x = 0\n",
    "        right_x = len(board[0])-1\n",
    "        #print('DEBUG: right_x = {0}'.format(right_x))\n",
    "        \n",
    "        for y in [pos_y-1, pos_y, pos_y+1]:\n",
    "            for x in [pos_x-1, pos_x, pos_x+1]:\n",
    "                if y >= top_y and y <= bottom_y and x >= left_x and x <= right_x:\n",
    "                    if y == pos_y and x == pos_x:\n",
    "                        pass\n",
    "                    else:\n",
    "                        yield [y, x]\n",
    "    \n",
    "    \n",
    "    def updateBoard(self, board, click):\n",
    "        \"\"\"\n",
    "        :type board: List[List[str]]\n",
    "        :type click: List[int]\n",
    "        :rtype: List[List[str]]\n",
    "        \"\"\"\n",
    "        \n",
    "        pos_y = click[0]\n",
    "        pos_x = click[1]\n",
    "        \n",
    "        top_y = 0\n",
    "        bottom_y = len(board)-1\n",
    "        #print('DEBUG: bottom_y = {0}'.format(bottom_y))\n",
    "        \n",
    "        left_x = 0\n",
    "        right_x = len(board[0])-1\n",
    "        #print('DEBUG: right_x = {0}'.format(right_x))\n",
    "        \n",
    "        if board[pos_y][pos_x] == 'M':\n",
    "            board[pos_y][pos_x] = 'X'\n",
    "            return board\n",
    "        elif board[pos_y][pos_x] == 'E':\n",
    "            num = 0\n",
    "            for adj_pos in self._yield_adj_pos(board, click):\n",
    "                adj_y = adj_pos[0]\n",
    "                adj_x = adj_pos[1]\n",
    "                # print('DEBUG: adj_y = {0} and adj_x = {1}'.format(adj_y, adj_x))\n",
    "                if board[adj_y][adj_x] == 'M':\n",
    "                   num += 1\n",
    "            \n",
    "            if num == 0:\n",
    "                board[pos_y][pos_x] = 'B'\n",
    "                \n",
    "                # TODO: reveal adjustments\n",
    "                for adj_pos in self._yield_adj_pos(board, click):\n",
    "                    self.updateBoard(board, adj_pos)\n",
    "            else:\n",
    "                board[pos_y][pos_x] = '{0}'.format(num)\n",
    "        else:\n",
    "            return board\n",
    "        \n",
    "        return board"
   ]
  },
  {
   "cell_type": "code",
   "execution_count": 39,
   "metadata": {},
   "outputs": [
    {
     "name": "stdout",
     "output_type": "stream",
     "text": [
      "['B', '1', 'E', '1', 'B']\n",
      "['B', '1', 'M', '1', 'B']\n",
      "['B', '1', '1', '1', 'B']\n",
      "['B', 'B', 'B', 'B', 'B']\n"
     ]
    }
   ],
   "source": [
    "board = [['E', 'E', 'E', 'E', 'E'], \n",
    "         ['E', 'E', 'M', 'E', 'E'],\n",
    "         ['E', 'E', 'E', 'E', 'E'],\n",
    "         ['E', 'E', 'E', 'E', 'E']]\n",
    "click = [3, 0]\n",
    "\n",
    "s = Solution()\n",
    "board_rev = s.updateBoard(board, click)\n",
    "\n",
    "for row in board_rev:\n",
    "    print(row)"
   ]
  },
  {
   "cell_type": "code",
   "execution_count": 24,
   "metadata": {},
   "outputs": [
    {
     "name": "stdout",
     "output_type": "stream",
     "text": [
      "[1, 2]\n"
     ]
    }
   ],
   "source": [
    "def yield_list():\n",
    "    yield [1, 2]\n",
    "\n",
    "for a in yield_list():\n",
    "    print(a)"
   ]
  },
  {
   "cell_type": "code",
   "execution_count": null,
   "metadata": {},
   "outputs": [],
   "source": []
  }
 ],
 "metadata": {
  "kernelspec": {
   "display_name": "Python 2",
   "language": "python",
   "name": "python2"
  },
  "language_info": {
   "codemirror_mode": {
    "name": "ipython",
    "version": 2
   },
   "file_extension": ".py",
   "mimetype": "text/x-python",
   "name": "python",
   "nbconvert_exporter": "python",
   "pygments_lexer": "ipython2",
   "version": "2.7.11"
  }
 },
 "nbformat": 4,
 "nbformat_minor": 2
}
