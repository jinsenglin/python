{
 "cells": [
  {
   "cell_type": "code",
   "execution_count": 14,
   "metadata": {},
   "outputs": [],
   "source": [
    "import copy\n",
    "\n",
    "class Solution(object):\n",
    "    def findContentChildren(self, g, s):\n",
    "        \"\"\"\n",
    "        :type g: List[int]\n",
    "        :type s: List[int]\n",
    "        :rtype: int\n",
    "        \"\"\"\n",
    "        \n",
    "        g.sort()\n",
    "        s.sort()\n",
    "        \n",
    "        maximum = 0\n",
    "        for size_wanted in g:\n",
    "            while len(s) > 0:\n",
    "                size = s[0]\n",
    "                del(s[0])\n",
    "                \n",
    "                if size >= size_wanted:\n",
    "                    maximum += 1\n",
    "                    break\n",
    "        \n",
    "        return maximum"
   ]
  },
  {
   "cell_type": "code",
   "execution_count": 16,
   "metadata": {},
   "outputs": [
    {
     "name": "stdout",
     "output_type": "stream",
     "text": [
      "1\n"
     ]
    }
   ],
   "source": [
    "s = Solution()\n",
    "m = s.findContentChildren([1,2, 3], [1,1])\n",
    "print(m)"
   ]
  },
  {
   "cell_type": "code",
   "execution_count": 13,
   "metadata": {},
   "outputs": [
    {
     "name": "stdout",
     "output_type": "stream",
     "text": [
      "[2, 4]\n"
     ]
    }
   ],
   "source": [
    "a = [4, 2, 3]\n",
    "a.sort()\n",
    "print(a)\n",
    "\n",
    "del(a[1])\n",
    "print(a)"
   ]
  },
  {
   "cell_type": "code",
   "execution_count": null,
   "metadata": {},
   "outputs": [],
   "source": []
  }
 ],
 "metadata": {
  "kernelspec": {
   "display_name": "Python 2",
   "language": "python",
   "name": "python2"
  },
  "language_info": {
   "codemirror_mode": {
    "name": "ipython",
    "version": 2
   },
   "file_extension": ".py",
   "mimetype": "text/x-python",
   "name": "python",
   "nbconvert_exporter": "python",
   "pygments_lexer": "ipython2",
   "version": "2.7.13"
  }
 },
 "nbformat": 4,
 "nbformat_minor": 2
}
