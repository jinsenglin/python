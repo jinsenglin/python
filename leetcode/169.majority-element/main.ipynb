{
 "cells": [
  {
   "cell_type": "code",
   "execution_count": 15,
   "metadata": {},
   "outputs": [],
   "source": [
    "class Memo(object):\n",
    "    number = None\n",
    "    count = None\n",
    "    \n",
    "    def __init__(self, number):\n",
    "        self.number = number\n",
    "        self.count = 1\n",
    "    \n",
    "    def add_one(self):\n",
    "        self.count += 1"
   ]
  },
  {
   "cell_type": "code",
   "execution_count": 16,
   "metadata": {},
   "outputs": [],
   "source": [
    "class MemoCollection(object):\n",
    "    memos = None\n",
    "    threshold = None\n",
    "    majority = None\n",
    "    \n",
    "    def __init__(self, threshold):\n",
    "        self.memos = []\n",
    "        self.threshold = threshold\n",
    "    \n",
    "    def has_memo(self, number):\n",
    "        for memo in self.memos:\n",
    "            if memo.number == number:\n",
    "                return True\n",
    "            \n",
    "        return False\n",
    "    \n",
    "    def add_memo(self, number):\n",
    "        memo = Memo(number)\n",
    "        self.memos.append(memo)\n",
    "    \n",
    "    \n",
    "    def add_one(self, number):\n",
    "        for memo in self.memos:\n",
    "            if memo.number == number:\n",
    "                memo.add_one()\n",
    "       \n",
    "    \n",
    "    def has_majority(self):\n",
    "        for memo in self.memos:\n",
    "            if memo.count > self.threshold:\n",
    "                self.majority = memo.number\n",
    "                return True\n",
    "            \n",
    "        return False"
   ]
  },
  {
   "cell_type": "code",
   "execution_count": 17,
   "metadata": {},
   "outputs": [],
   "source": [
    "class Solution(object):\n",
    "    def majorityElement(self, nums):\n",
    "        \"\"\"\n",
    "        :type nums: List[int]\n",
    "        :rtype: int\n",
    "        \"\"\"\n",
    "        \n",
    "        mc = MemoCollection(len(nums)/2)\n",
    "        \n",
    "        for num in nums:\n",
    "            if mc.has_memo(num):\n",
    "                mc.add_one(num)\n",
    "            else:\n",
    "                mc.add_memo(num)\n",
    "            \n",
    "            if mc.has_majority():\n",
    "                return mc.majority"
   ]
  },
  {
   "cell_type": "code",
   "execution_count": 20,
   "metadata": {},
   "outputs": [
    {
     "name": "stdout",
     "output_type": "stream",
     "text": [
      "8\n"
     ]
    }
   ],
   "source": [
    "# Demo\n",
    "s = Solution()\n",
    "print(s.majorityElement([5, 8, 5, 8, 8]))"
   ]
  },
  {
   "cell_type": "code",
   "execution_count": null,
   "metadata": {},
   "outputs": [],
   "source": []
  }
 ],
 "metadata": {
  "kernelspec": {
   "display_name": "Python 2",
   "language": "python",
   "name": "python2"
  },
  "language_info": {
   "codemirror_mode": {
    "name": "ipython",
    "version": 2
   },
   "file_extension": ".py",
   "mimetype": "text/x-python",
   "name": "python",
   "nbconvert_exporter": "python",
   "pygments_lexer": "ipython2",
   "version": "2.7.13"
  }
 },
 "nbformat": 4,
 "nbformat_minor": 2
}
