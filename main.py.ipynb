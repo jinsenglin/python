{
 "cells": [
  {
   "cell_type": "code",
   "execution_count": 40,
   "metadata": {},
   "outputs": [],
   "source": [
    "n = 2\n",
    "min = 1\n",
    "max = 2"
   ]
  },
  {
   "cell_type": "code",
   "execution_count": 41,
   "metadata": {},
   "outputs": [],
   "source": [
    "def yield_possible_nums(min, max):\n",
    "    for num in xrange(min, max+1):\n",
    "        yield num\n",
    "        \n",
    "def yield_possible_ops():\n",
    "    for op in ['+', '-', '*', '/']:\n",
    "        yield op\n",
    "\n",
    "def yield_possible_expressions(n, min, max):\n",
    "    if n == 1:\n",
    "        for i in yield_possible_nums(min, max):\n",
    "            yield i\n",
    "    else:\n",
    "        for i in yield_possible_nums(min, max):\n",
    "            for op in yield_possible_ops():\n",
    "                for j in yield_possible_expressions(n-1, min, max):\n",
    "                    yield '{0}{1}{2}'.format(i, op, j)"
   ]
  },
  {
   "cell_type": "code",
   "execution_count": 43,
   "metadata": {},
   "outputs": [
    {
     "name": "stdout",
     "output_type": "stream",
     "text": [
      "1+1\n",
      "1+2\n",
      "1-1\n",
      "1-2\n",
      "1*1\n",
      "1*2\n",
      "1/1\n",
      "1/2\n",
      "2+1\n",
      "2+2\n",
      "2-1\n",
      "2-2\n",
      "2*1\n",
      "2*2\n",
      "2/1\n",
      "2/2\n"
     ]
    }
   ],
   "source": [
    "for exp in yield_possible_expressions(n, min, max):\n",
    "    print(exp)"
   ]
  },
  {
   "cell_type": "code",
   "execution_count": 26,
   "metadata": {},
   "outputs": [],
   "source": [
    "def new_expression(exp, masks):\n",
    "    left_oprand = ''\n",
    "    op = ''\n",
    "    right_oprand = ''\n",
    "    index = 0;\n",
    "    new_exp = []\n",
    "    while index < len(masks):\n",
    "        if index == 0:\n",
    "            left_oprand = exp[index*2+1-1]\n",
    "            op = exp[index*2+1]\n",
    "            right_oprand = exp[index*2+1+1]\n",
    "        else:\n",
    "            op = exp[index*2+1]\n",
    "            right_oprand = exp[index*2+1+1]\n",
    "        \n",
    "        if masks[index]:\n",
    "            left_oprand = '({0}{1}{2})'.format(left_oprand, op, right_oprand)\n",
    "        else:\n",
    "            new_exp.append(left_oprand)\n",
    "            new_exp.append(op)\n",
    "            left_oprand = right_oprand\n",
    "        \n",
    "        index += 1\n",
    "    \n",
    "    new_exp.append(left_oprand)\n",
    "    return ''.join(new_exp)"
   ]
  },
  {
   "cell_type": "code",
   "execution_count": 28,
   "metadata": {},
   "outputs": [
    {
     "name": "stdout",
     "output_type": "stream",
     "text": [
      "1+1+1+1\n"
     ]
    }
   ],
   "source": [
    "exp = '1+1+1+1'\n",
    "masks = [False, False, False]\n",
    "print(new_expression(exp, masks))"
   ]
  },
  {
   "cell_type": "code",
   "execution_count": null,
   "metadata": {},
   "outputs": [],
   "source": []
  }
 ],
 "metadata": {
  "kernelspec": {
   "display_name": "Python 2",
   "language": "python",
   "name": "python2"
  },
  "language_info": {
   "codemirror_mode": {
    "name": "ipython",
    "version": 2
   },
   "file_extension": ".py",
   "mimetype": "text/x-python",
   "name": "python",
   "nbconvert_exporter": "python",
   "pygments_lexer": "ipython2",
   "version": "2.7.13"
  }
 },
 "nbformat": 4,
 "nbformat_minor": 2
}
