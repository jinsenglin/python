{
 "cells": [
  {
   "cell_type": "code",
   "execution_count": 113,
   "metadata": {},
   "outputs": [],
   "source": [
    "n = 3\n",
    "min = 1\n",
    "max = 2\n",
    "ops = ['+', '-']"
   ]
  },
  {
   "cell_type": "code",
   "execution_count": 114,
   "metadata": {},
   "outputs": [],
   "source": [
    "def yield_possible_nums(min, max):\n",
    "    for num in xrange(min, max+1):\n",
    "        yield '{0}'.format(num)\n",
    "        \n",
    "def yield_possible_ops(ops):\n",
    "    for op in ops:\n",
    "        yield '{0}'.format(op)\n",
    "\n",
    "def yield_possible_expressions(n, min, max, ops):\n",
    "    if n == 1:\n",
    "        for i in yield_possible_nums(min, max):\n",
    "            yield '{0}'.format(i)\n",
    "    else:\n",
    "        for i in yield_possible_nums(min, max):\n",
    "            for op in yield_possible_ops(ops):\n",
    "                for j in yield_possible_expressions(n-1, min, max, ops):\n",
    "                    yield '{0}{1}{2}'.format(i, op, j)"
   ]
  },
  {
   "cell_type": "code",
   "execution_count": 115,
   "metadata": {},
   "outputs": [
    {
     "name": "stdout",
     "output_type": "stream",
     "text": [
      "1+1+1\n",
      "1+1+2\n",
      "1+1-1\n",
      "1+1-2\n",
      "1+2+1\n",
      "1+2+2\n",
      "1+2-1\n",
      "1+2-2\n",
      "1-1+1\n",
      "1-1+2\n",
      "1-1-1\n",
      "1-1-2\n",
      "1-2+1\n",
      "1-2+2\n",
      "1-2-1\n",
      "1-2-2\n",
      "2+1+1\n",
      "2+1+2\n",
      "2+1-1\n",
      "2+1-2\n",
      "2+2+1\n",
      "2+2+2\n",
      "2+2-1\n",
      "2+2-2\n",
      "2-1+1\n",
      "2-1+2\n",
      "2-1-1\n",
      "2-1-2\n",
      "2-2+1\n",
      "2-2+2\n",
      "2-2-1\n",
      "2-2-2\n"
     ]
    }
   ],
   "source": [
    "# Demo\n",
    "for exp in yield_possible_expressions(n, min, max, ops):\n",
    "    print(exp)"
   ]
  },
  {
   "cell_type": "code",
   "execution_count": 116,
   "metadata": {},
   "outputs": [],
   "source": [
    "def yield_possible_flags():\n",
    "    for flag in [0, 1]:\n",
    "        yield '{0}'.format(flag)\n",
    "\n",
    "def yield_possible_masks(n):\n",
    "    if n == 2:\n",
    "        for i in yield_possible_flags():\n",
    "            yield '{0}'.format(i)\n",
    "    else:\n",
    "        for i in yield_possible_flags():\n",
    "            for j in yield_possible_masks(n-1):\n",
    "                yield '{0}{1}'.format(i, j)"
   ]
  },
  {
   "cell_type": "code",
   "execution_count": 117,
   "metadata": {},
   "outputs": [
    {
     "name": "stdout",
     "output_type": "stream",
     "text": [
      "00\n",
      "01\n",
      "10\n",
      "11\n"
     ]
    }
   ],
   "source": [
    "# Demo\n",
    "for mask in yield_possible_masks(n):\n",
    "    print(mask)"
   ]
  },
  {
   "cell_type": "code",
   "execution_count": 118,
   "metadata": {},
   "outputs": [],
   "source": [
    "def new_expression(exp, mask):\n",
    "    left_oprand = ''\n",
    "    op = ''\n",
    "    right_oprand = ''\n",
    "    index = 0;\n",
    "    new_exp = []\n",
    "    while index < len(mask):\n",
    "        if index == 0:\n",
    "            left_oprand = exp[index*2+1-1]\n",
    "            op = exp[index*2+1]\n",
    "            right_oprand = exp[index*2+1+1]\n",
    "        else:\n",
    "            op = exp[index*2+1]\n",
    "            right_oprand = exp[index*2+1+1]\n",
    "        \n",
    "        if mask[index] == '1':\n",
    "            left_oprand = '({0}{1}{2})'.format(left_oprand, op, right_oprand)\n",
    "        else:\n",
    "            new_exp.append(left_oprand)\n",
    "            new_exp.append(op)\n",
    "            left_oprand = right_oprand\n",
    "        \n",
    "        index += 1\n",
    "    \n",
    "    new_exp.append(left_oprand)\n",
    "    return ''.join(new_exp)"
   ]
  },
  {
   "cell_type": "code",
   "execution_count": 119,
   "metadata": {},
   "outputs": [
    {
     "name": "stdout",
     "output_type": "stream",
     "text": [
      "1+1+1+1\n"
     ]
    }
   ],
   "source": [
    "# Demo\n",
    "exp = '1+1+1+1'\n",
    "mask = '000'\n",
    "print(new_expression(exp, mask))"
   ]
  },
  {
   "cell_type": "code",
   "execution_count": 120,
   "metadata": {},
   "outputs": [],
   "source": [
    "def yield_possible_expressions_with_possible_masks(n, min, max, ops):\n",
    "    for exp in yield_possible_expressions(n, min, max, ops):\n",
    "        for mask in yield_possible_masks(n):\n",
    "            yield(new_expression(exp, mask))"
   ]
  },
  {
   "cell_type": "code",
   "execution_count": 121,
   "metadata": {},
   "outputs": [
    {
     "name": "stdout",
     "output_type": "stream",
     "text": [
      "1+1+1\n",
      "1+(1+1)\n",
      "(1+1)+1\n",
      "((1+1)+1)\n",
      "1+1+2\n",
      "1+(1+2)\n",
      "(1+1)+2\n",
      "((1+1)+2)\n",
      "1+1-1\n",
      "1+(1-1)\n",
      "(1+1)-1\n",
      "((1+1)-1)\n",
      "1+1-2\n",
      "1+(1-2)\n",
      "(1+1)-2\n",
      "((1+1)-2)\n",
      "1+2+1\n",
      "1+(2+1)\n",
      "(1+2)+1\n",
      "((1+2)+1)\n",
      "1+2+2\n",
      "1+(2+2)\n",
      "(1+2)+2\n",
      "((1+2)+2)\n",
      "1+2-1\n",
      "1+(2-1)\n",
      "(1+2)-1\n",
      "((1+2)-1)\n",
      "1+2-2\n",
      "1+(2-2)\n",
      "(1+2)-2\n",
      "((1+2)-2)\n",
      "1-1+1\n",
      "1-(1+1)\n",
      "(1-1)+1\n",
      "((1-1)+1)\n",
      "1-1+2\n",
      "1-(1+2)\n",
      "(1-1)+2\n",
      "((1-1)+2)\n",
      "1-1-1\n",
      "1-(1-1)\n",
      "(1-1)-1\n",
      "((1-1)-1)\n",
      "1-1-2\n",
      "1-(1-2)\n",
      "(1-1)-2\n",
      "((1-1)-2)\n",
      "1-2+1\n",
      "1-(2+1)\n",
      "(1-2)+1\n",
      "((1-2)+1)\n",
      "1-2+2\n",
      "1-(2+2)\n",
      "(1-2)+2\n",
      "((1-2)+2)\n",
      "1-2-1\n",
      "1-(2-1)\n",
      "(1-2)-1\n",
      "((1-2)-1)\n",
      "1-2-2\n",
      "1-(2-2)\n",
      "(1-2)-2\n",
      "((1-2)-2)\n",
      "2+1+1\n",
      "2+(1+1)\n",
      "(2+1)+1\n",
      "((2+1)+1)\n",
      "2+1+2\n",
      "2+(1+2)\n",
      "(2+1)+2\n",
      "((2+1)+2)\n",
      "2+1-1\n",
      "2+(1-1)\n",
      "(2+1)-1\n",
      "((2+1)-1)\n",
      "2+1-2\n",
      "2+(1-2)\n",
      "(2+1)-2\n",
      "((2+1)-2)\n",
      "2+2+1\n",
      "2+(2+1)\n",
      "(2+2)+1\n",
      "((2+2)+1)\n",
      "2+2+2\n",
      "2+(2+2)\n",
      "(2+2)+2\n",
      "((2+2)+2)\n",
      "2+2-1\n",
      "2+(2-1)\n",
      "(2+2)-1\n",
      "((2+2)-1)\n",
      "2+2-2\n",
      "2+(2-2)\n",
      "(2+2)-2\n",
      "((2+2)-2)\n",
      "2-1+1\n",
      "2-(1+1)\n",
      "(2-1)+1\n",
      "((2-1)+1)\n",
      "2-1+2\n",
      "2-(1+2)\n",
      "(2-1)+2\n",
      "((2-1)+2)\n",
      "2-1-1\n",
      "2-(1-1)\n",
      "(2-1)-1\n",
      "((2-1)-1)\n",
      "2-1-2\n",
      "2-(1-2)\n",
      "(2-1)-2\n",
      "((2-1)-2)\n",
      "2-2+1\n",
      "2-(2+1)\n",
      "(2-2)+1\n",
      "((2-2)+1)\n",
      "2-2+2\n",
      "2-(2+2)\n",
      "(2-2)+2\n",
      "((2-2)+2)\n",
      "2-2-1\n",
      "2-(2-1)\n",
      "(2-2)-1\n",
      "((2-2)-1)\n",
      "2-2-2\n",
      "2-(2-2)\n",
      "(2-2)-2\n",
      "((2-2)-2)\n"
     ]
    }
   ],
   "source": [
    "# Demo\n",
    "for exp in yield_possible_expressions_with_possible_masks(n, min, max, ops):\n",
    "    print(exp)"
   ]
  },
  {
   "cell_type": "code",
   "execution_count": 5,
   "metadata": {},
   "outputs": [],
   "source": [
    "def infix_to_postfix(infix):\n",
    "    stack = []\n",
    "    postfix = []\n",
    "    \n",
    "    for i in xrange(0, len(infix)):\n",
    "        ch = infix[i]\n",
    "        \n",
    "        if ch in ['1']:\n",
    "            postfix.append(ch)\n",
    "        elif ch in ['(']:\n",
    "            stack.append(ch)\n",
    "        elif ch in ['+']:\n",
    "            if ch_less_than_op_in_the_stack():\n",
    "                # TODO: flush stack\n",
    "                pass\n",
    "            \n",
    "            stack.append(ch)    \n",
    "        elif ch in [')']:\n",
    "            # TODO: flush stack until '('\n",
    "            pass\n",
    "    \n",
    "    # TODO: flush stack\n",
    "    while len(stack) > 0:\n",
    "        postfix.append(stack.pop())\n",
    "    \n",
    "    return ''.join(postfix)"
   ]
  },
  {
   "cell_type": "code",
   "execution_count": 6,
   "metadata": {},
   "outputs": [
    {
     "name": "stdout",
     "output_type": "stream",
     "text": [
      "1+1\n"
     ]
    }
   ],
   "source": [
    "# Demo\n",
    "infix = '1+1'\n",
    "postfix = infix_to_postfix(infix)\n",
    "print(postfix)"
   ]
  },
  {
   "cell_type": "code",
   "execution_count": 10,
   "metadata": {},
   "outputs": [],
   "source": [
    "def eval_postfix(postfix):\n",
    "    value = '2'\n",
    "    return value"
   ]
  },
  {
   "cell_type": "code",
   "execution_count": 11,
   "metadata": {},
   "outputs": [
    {
     "name": "stdout",
     "output_type": "stream",
     "text": [
      "2\n"
     ]
    }
   ],
   "source": [
    "# Demo\n",
    "postfix = '11+'\n",
    "value = eval_postfix(postfix)\n",
    "print(value)"
   ]
  },
  {
   "cell_type": "code",
   "execution_count": null,
   "metadata": {},
   "outputs": [],
   "source": []
  }
 ],
 "metadata": {
  "kernelspec": {
   "display_name": "Python 2",
   "language": "python",
   "name": "python2"
  },
  "language_info": {
   "codemirror_mode": {
    "name": "ipython",
    "version": 2
   },
   "file_extension": ".py",
   "mimetype": "text/x-python",
   "name": "python",
   "nbconvert_exporter": "python",
   "pygments_lexer": "ipython2",
   "version": "2.7.13"
  }
 },
 "nbformat": 4,
 "nbformat_minor": 2
}
