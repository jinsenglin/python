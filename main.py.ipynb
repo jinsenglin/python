{
 "cells": [
  {
   "cell_type": "code",
   "execution_count": 1,
   "metadata": {},
   "outputs": [],
   "source": [
    "min = 1\n",
    "max = 2"
   ]
  },
  {
   "cell_type": "code",
   "execution_count": 2,
   "metadata": {},
   "outputs": [],
   "source": [
    "def all_possible_expressions():\n",
    "    for card1 in xrange(min, max+1):\n",
    "        for card2 in xrange(min, max+1):\n",
    "            for card3 in xrange(min, max+1):\n",
    "                for card4 in xrange(min, max+1):\n",
    "                    for op1 in ['+', '-', '*', '/']:\n",
    "                        for op2 in ['+', '-', '*', '/']:\n",
    "                            for op3 in ['+', '-', '*', '/']:\n",
    "                                for g1 in [0, 1]:\n",
    "                                    for g2 in [0, 1]:\n",
    "                                        for g3 in [0, 1]:\n",
    "                                            if g1 == 0 and g2 == 0 and g3 == 0:\n",
    "                                                exp = list('{0}{1}{2}{3}{4}{5}{6}'.format(card1, op1, card2, op2, card3, op3, card4))\n",
    "                                            elif g1 == 0 and g2 == 0 and g3 == 1:\n",
    "                                                exp = list('{0}{1}{2}{3}({4}{5}{6})'.format(card1, op1, card2, op2, card3, op3, card4))\n",
    "                                            elif g1 == 0 and g2 == 1 and g3 == 0:\n",
    "                                                exp = list('{0}{1}({2}{3}{4}){5}{6}'.format(card1, op1, card2, op2, card3, op3, card4))\n",
    "                                            elif g1 == 0 and g2 == 1 and g3 == 1:\n",
    "                                                exp = list('{0}{1}(({2}{3}{4}){5}{6})'.format(card1, op1, card2, op2, card3, op3, card4))\n",
    "                                            elif g1 == 1 and g2 == 0 and g3 == 0:\n",
    "                                                exp = list('({0}{1}{2}){3}{4}{5}{6}'.format(card1, op1, card2, op2, card3, op3, card4))\n",
    "                                            elif g1 == 1 and g2 == 0 and g3 == 1:\n",
    "                                                exp = list('({0}{1}{2}){3}({4}{5}{6})'.format(card1, op1, card2, op2, card3, op3, card4))\n",
    "                                            elif g1 == 1 and g2 == 1 and g3 == 0:\n",
    "                                                exp = list('(({0}{1}{2}){3}{4}){5}{6}'.format(card1, op1, card2, op2, card3, op3, card4))\n",
    "                                            else:\n",
    "                                                exp = list('((({0}{1}{2}){3}{4}){5}{6})'.format(card1, op1, card2, op2, card3, op3, card4))\n",
    "                                            yield exp"
   ]
  },
  {
   "cell_type": "code",
   "execution_count": 20,
   "metadata": {},
   "outputs": [],
   "source": [
    "def all_possible_nums(min, max):\n",
    "    for num in xrange(min, max+1):\n",
    "        yield num\n",
    "        \n",
    "def all_possible_ops():\n",
    "    for op in ['+', '-', '*', '/']:\n",
    "        yield op\n",
    "\n",
    "def all_possible_expressions_v2(n, min, max):\n",
    "    if n == 1:\n",
    "        for i in all_possible_nums(min, max):\n",
    "            yield i\n",
    "    else:\n",
    "        for i in all_possible_nums(min, max):\n",
    "            for op in all_possible_ops():\n",
    "                for j in all_possible_expressions_v2(n-1, min, max):\n",
    "                    yield '{0} {1} {2}'.format(i, op, j)"
   ]
  },
  {
   "cell_type": "code",
   "execution_count": 21,
   "metadata": {},
   "outputs": [
    {
     "name": "stdout",
     "output_type": "stream",
     "text": [
      "1 + 1\n",
      "1 + 2\n",
      "1 - 1\n",
      "1 - 2\n",
      "1 * 1\n",
      "1 * 2\n",
      "1 / 1\n",
      "1 / 2\n",
      "2 + 1\n",
      "2 + 2\n",
      "2 - 1\n",
      "2 - 2\n",
      "2 * 1\n",
      "2 * 2\n",
      "2 / 1\n",
      "2 / 2\n"
     ]
    }
   ],
   "source": [
    "n = 2\n",
    "min = 1\n",
    "max = 2\n",
    "for exp in all_possible_expressions_v2(n, min, max):\n",
    "    print(exp)"
   ]
  },
  {
   "cell_type": "code",
   "execution_count": 24,
   "metadata": {},
   "outputs": [],
   "source": [
    "index = 0\n",
    "counter = 0\n",
    "result = []\n",
    "\n",
    "def transform_expression(exp, masks):\n",
    "    global counter\n",
    "    \n",
    "    def consume():\n",
    "        global index\n",
    "        global counter\n",
    "        global result\n",
    "\n",
    "        while index < len(exp):\n",
    "            \n",
    "            if exp[index] in ['+', '-', '*', '/']:\n",
    "                result.append(exp[index])\n",
    "                index += 1\n",
    "\n",
    "                if counter > 0:\n",
    "                    result.append(exp[index])\n",
    "                    index += 1\n",
    "                    result.append(')')\n",
    "                    counter -= 1\n",
    "\n",
    "                break\n",
    "\n",
    "            else:\n",
    "                result.append(exp[index])\n",
    "                index += 1\n",
    "            \n",
    "    def consume_exp1():    \n",
    "        consume()\n",
    "        while counter > 0:\n",
    "            consume()\n",
    "        \n",
    "    def consume_exp2():\n",
    "        while index < len(exp):\n",
    "            consume()\n",
    "    \n",
    "    for mask in masks:\n",
    "        if mask is True:\n",
    "            result.append('(')\n",
    "            counter += 1\n",
    "        else:\n",
    "            consume_exp1()\n",
    "\n",
    "    consume_exp2()"
   ]
  },
  {
   "cell_type": "code",
   "execution_count": 25,
   "metadata": {},
   "outputs": [
    {
     "name": "stdout",
     "output_type": "stream",
     "text": [
      "(1+1)(+1)+1\n"
     ]
    }
   ],
   "source": [
    "exp = '1+1+1+1'\n",
    "masks = [True, False, True]\n",
    "transform_expression(exp, masks)\n",
    "print(''.join(result))"
   ]
  },
  {
   "cell_type": "code",
   "execution_count": 28,
   "metadata": {},
   "outputs": [
    {
     "name": "stdout",
     "output_type": "stream",
     "text": [
      "F F F\n",
      "1+1+1+1\n",
      "T F F\n",
      "(1+1)+1+1\n",
      "T F T\n",
      "(1+1)+(1+1)\n",
      "T T F\n",
      "((1+1)+1)+1\n"
     ]
    }
   ],
   "source": [
    "print('F F F')\n",
    "print('1+1+1+1')\n",
    "print('T F F')\n",
    "print('(1+1)+1+1')\n",
    "print('T F T')\n",
    "print('(1+1)+(1+1)')\n",
    "print('T T F')\n",
    "print('((1+1)+1)+1')"
   ]
  },
  {
   "cell_type": "code",
   "execution_count": null,
   "metadata": {},
   "outputs": [],
   "source": []
  }
 ],
 "metadata": {
  "kernelspec": {
   "display_name": "Python 2",
   "language": "python",
   "name": "python2"
  },
  "language_info": {
   "codemirror_mode": {
    "name": "ipython",
    "version": 2
   },
   "file_extension": ".py",
   "mimetype": "text/x-python",
   "name": "python",
   "nbconvert_exporter": "python",
   "pygments_lexer": "ipython2",
   "version": "2.7.13"
  }
 },
 "nbformat": 4,
 "nbformat_minor": 2
}
