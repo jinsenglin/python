{
 "cells": [
  {
   "cell_type": "code",
   "execution_count": 1,
   "metadata": {},
   "outputs": [
    {
     "name": "stdout",
     "output_type": "stream",
     "text": [
      "instance-000018fa\n",
      "instance-000018f9\n",
      "instance-000018f8\n",
      "instance-000018f7\n",
      "instance-000018f6\n",
      "instance-000018e3\n",
      "instance-000018a9\n",
      "instance-000018a4\n",
      "instance-000018a3\n",
      "instance-0000183a\n",
      "instance-000017a9\n",
      "instance-000017a8\n",
      "instance-000013d7\n",
      "instance-0000122f\n",
      "instance-00001207\n",
      "instance-000011b2\n",
      "instance-0000112b\n",
      "instance-00000f5b\n",
      "instance-00000d8c\n",
      "instance-00000d8b\n",
      "instance-00000d7e\n",
      "instance-00000d63\n",
      "instance-00000d61\n",
      "instance-00000d5b\n"
     ]
    }
   ],
   "source": [
    "import os_client_config\n",
    "from openstack import connection\n",
    "\n",
    "occ = os_client_config.OpenStackConfig(config_files=['../samples/0000-0000-0000-0000.os.yaml'])\n",
    "cloud = occ.get_one_cloud('os')\n",
    "conn = connection.from_config(cloud_config=cloud)\n",
    "for server in conn.compute.servers():\n",
    "    print(server.instance_name)"
   ]
  },
  {
   "cell_type": "code",
   "execution_count": null,
   "metadata": {},
   "outputs": [],
   "source": []
  }
 ],
 "metadata": {
  "kernelspec": {
   "display_name": "Python 2",
   "language": "python",
   "name": "python2"
  },
  "language_info": {
   "codemirror_mode": {
    "name": "ipython",
    "version": 2
   },
   "file_extension": ".py",
   "mimetype": "text/x-python",
   "name": "python",
   "nbconvert_exporter": "python",
   "pygments_lexer": "ipython2",
   "version": "2.7.11"
  }
 },
 "nbformat": 4,
 "nbformat_minor": 2
}
