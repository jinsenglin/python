{
 "cells": [
  {
   "cell_type": "code",
   "execution_count": 8,
   "metadata": {},
   "outputs": [
    {
     "name": "stdout",
     "output_type": "stream",
     "text": [
      "openstack.identity.v2.tenant.Tenant(enabled=True, id=8d092dccbf03493c913b7fc909c4458e, name=admin, description=Bootstrap project for initializing the cloud.)\n"
     ]
    }
   ],
   "source": [
    "import os_client_config\n",
    "from openstack import connection\n",
    "\n",
    "occ = os_client_config.OpenStackConfig(config_files=['../../samples/0000-0000-0000-0000.os.yaml'])\n",
    "cloud = occ.get_one_cloud('os')\n",
    "conn = connection.from_config(cloud_config=cloud)\n",
    "for tenant in conn.identity.tenants():\n",
    "    print(tenant)"
   ]
  }
 ],
 "metadata": {
  "kernelspec": {
   "display_name": "Python 2",
   "language": "python",
   "name": "python2"
  },
  "language_info": {
   "codemirror_mode": {
    "name": "ipython",
    "version": 2
   },
   "file_extension": ".py",
   "mimetype": "text/x-python",
   "name": "python",
   "nbconvert_exporter": "python",
   "pygments_lexer": "ipython2",
   "version": "2.7.11"
  }
 },
 "nbformat": 4,
 "nbformat_minor": 2
}
