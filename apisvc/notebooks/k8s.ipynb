{
 "cells": [
  {
   "cell_type": "code",
   "execution_count": 2,
   "metadata": {},
   "outputs": [
    {
     "name": "stdout",
     "output_type": "stream",
     "text": [
      "10.0.2.15\tkube-system\tetcd-minikube\n",
      "172.17.0.4\tkube-system\theapster-kht42\n",
      "None\tkube-system\tinfluxdb-grafana-6wjm7\n",
      "10.0.2.15\tkube-system\tkube-addon-manager-minikube\n",
      "10.0.2.15\tkube-system\tkube-apiserver-minikube\n",
      "10.0.2.15\tkube-system\tkube-controller-manager-minikube\n",
      "172.17.0.2\tkube-system\tkube-dns-bbffcb657-4gz2c\n",
      "10.0.2.15\tkube-system\tkube-proxy-7g45p\n",
      "10.0.2.15\tkube-system\tkube-scheduler-minikube\n",
      "172.17.0.3\tkube-system\tkubernetes-dashboard-xbg6g\n"
     ]
    }
   ],
   "source": [
    "from kubernetes import client, config\n",
    "\n",
    "config.load_kube_config(config_file='../samples/0000-0000-0000-0000.k8s.yaml')\n",
    "v1 = client.CoreV1Api()\n",
    "ret = v1.list_pod_for_all_namespaces(watch=False)\n",
    "\n",
    "for i in ret.items:\n",
    "    print(\"%s\\t%s\\t%s\" % (i.status.pod_ip, i.metadata.namespace, i.metadata.name))"
   ]
  },
  {
   "cell_type": "code",
   "execution_count": null,
   "metadata": {},
   "outputs": [],
   "source": [
    "client."
   ]
  }
 ],
 "metadata": {
  "kernelspec": {
   "display_name": "Python 2",
   "language": "python",
   "name": "python2"
  },
  "language_info": {
   "codemirror_mode": {
    "name": "ipython",
    "version": 2
   },
   "file_extension": ".py",
   "mimetype": "text/x-python",
   "name": "python",
   "nbconvert_exporter": "python",
   "pygments_lexer": "ipython2",
   "version": "2.7.11"
  }
 },
 "nbformat": 4,
 "nbformat_minor": 2
}
