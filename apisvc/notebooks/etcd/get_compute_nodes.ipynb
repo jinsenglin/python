{
 "cells": [
  {
   "cell_type": "code",
   "execution_count": 22,
   "metadata": {},
   "outputs": [
    {
     "name": "stdout",
     "output_type": "stream",
     "text": [
      "/apisvc/nodes/compute/comp1\n",
      "{\n",
      "  \"status\": \"UNKNOWN\",\n",
      "  \"mgmt_endpoint\": \"UNKNOWN\"\n",
      "}\n",
      "/apisvc/nodes/compute/comp2\n",
      "{\n",
      "  \"status\": \"UNKNOWN\",\n",
      "  \"mgmt_endpoint\": \"UNKNOWN\"\n",
      "}\n"
     ]
    }
   ],
   "source": [
    "import etcd3\n",
    "etcd = etcd3.client(host='127.0.0.1')\n",
    "for v,k in etcd.get_prefix('/apisvc/nodes/compute/'):\n",
    "    print(k.key)\n",
    "    print(v)"
   ]
  },
  {
   "cell_type": "code",
   "execution_count": null,
   "metadata": {},
   "outputs": [],
   "source": []
  }
 ],
 "metadata": {
  "kernelspec": {
   "display_name": "Python 2",
   "language": "python",
   "name": "python2"
  },
  "language_info": {
   "codemirror_mode": {
    "name": "ipython",
    "version": 2
   },
   "file_extension": ".py",
   "mimetype": "text/x-python",
   "name": "python",
   "nbconvert_exporter": "python",
   "pygments_lexer": "ipython2",
   "version": "2.7.11"
  }
 },
 "nbformat": 4,
 "nbformat_minor": 2
}
