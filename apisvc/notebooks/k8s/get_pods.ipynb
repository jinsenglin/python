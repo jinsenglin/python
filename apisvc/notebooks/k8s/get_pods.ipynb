{
 "cells": [
  {
   "cell_type": "code",
   "execution_count": 1,
   "metadata": {},
   "outputs": [],
   "source": [
    "# equivalent to command line `kubectl get pods --all-namespaces`"
   ]
  },
  {
   "cell_type": "code",
   "execution_count": 6,
   "metadata": {},
   "outputs": [
    {
     "name": "stdout",
     "output_type": "stream",
     "text": [
      "kube-system\t10.0.2.15\tetcd-minikube\n",
      "kube-system\t172.17.0.4\theapster-kjnx6\n",
      "kube-system\t172.17.0.5\tinfluxdb-grafana-5hbr4\n",
      "kube-system\t10.0.2.15\tkube-addon-manager-minikube\n",
      "kube-system\t10.0.2.15\tkube-apiserver-minikube\n",
      "kube-system\t10.0.2.15\tkube-controller-manager-minikube\n",
      "kube-system\t172.17.0.2\tkube-dns-bbffcb657-5pmc8\n",
      "kube-system\t10.0.2.15\tkube-proxy-r6mnf\n",
      "kube-system\t10.0.2.15\tkube-scheduler-minikube\n",
      "kube-system\t172.17.0.3\tkubernetes-dashboard-rvdjr\n"
     ]
    }
   ],
   "source": [
    "from kubernetes import client, config\n",
    "\n",
    "config.load_kube_config(config_file='../../samples/0000-0000-0000-0000.k8s.yaml')\n",
    "v1 = client.CoreV1Api()\n",
    "ret = v1.list_pod_for_all_namespaces(watch=False)\n",
    "\n",
    "for item in ret.items:\n",
    "    print('{ns}\\t{ip}\\t{name}'.format(ip=item.status.pod_ip,\n",
    "                                      ns=item.metadata.namespace,\n",
    "                                      name=item.metadata.name))"
   ]
  },
  {
   "cell_type": "code",
   "execution_count": null,
   "metadata": {},
   "outputs": [],
   "source": [
    "client."
   ]
  }
 ],
 "metadata": {
  "kernelspec": {
   "display_name": "Python 2",
   "language": "python",
   "name": "python2"
  },
  "language_info": {
   "codemirror_mode": {
    "name": "ipython",
    "version": 2
   },
   "file_extension": ".py",
   "mimetype": "text/x-python",
   "name": "python",
   "nbconvert_exporter": "python",
   "pygments_lexer": "ipython2",
   "version": "2.7.11"
  }
 },
 "nbformat": 4,
 "nbformat_minor": 2
}
