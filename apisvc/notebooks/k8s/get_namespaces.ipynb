{
 "cells": [
  {
   "cell_type": "code",
   "execution_count": 16,
   "metadata": {},
   "outputs": [],
   "source": [
    "# equivalent to command line `kubectl get namespaces`"
   ]
  },
  {
   "cell_type": "code",
   "execution_count": 17,
   "metadata": {},
   "outputs": [
    {
     "name": "stdout",
     "output_type": "stream",
     "text": [
      "default\n",
      "kube-public\n",
      "kube-system\n"
     ]
    }
   ],
   "source": [
    "from kubernetes import client, config\n",
    "\n",
    "config.load_kube_config(config_file='../../samples/0000-0000-0000-0000.k8s.yaml')\n",
    "v1 = client.CoreV1Api()\n",
    "ret = v1.list_namespace(watch=False)\n",
    "\n",
    "for item in ret.items:\n",
    "    print('{name}'.format(name=item.metadata.name))"
   ]
  },
  {
   "cell_type": "code",
   "execution_count": 18,
   "metadata": {},
   "outputs": [
    {
     "data": {
      "text/plain": [
       "{'api_version': 'v1',\n",
       " 'kind': 'Namespace',\n",
       " 'metadata': {'annotations': None,\n",
       "              'cluster_name': None,\n",
       "              'creation_timestamp': datetime.datetime(2017, 11, 27, 3, 24, 10, tzinfo=tzutc()),\n",
       "              'deletion_grace_period_seconds': None,\n",
       "              'deletion_timestamp': None,\n",
       "              'finalizers': None,\n",
       "              'generate_name': None,\n",
       "              'generation': None,\n",
       "              'initializers': None,\n",
       "              'labels': None,\n",
       "              'name': 'ns1',\n",
       "              'namespace': None,\n",
       "              'owner_references': None,\n",
       "              'resource_version': '2520',\n",
       "              'self_link': '/api/v1/namespaces/ns1',\n",
       "              'uid': '6ef6473a-d322-11e7-850d-080027d073ed'},\n",
       " 'spec': {'finalizers': ['kubernetes']},\n",
       " 'status': {'phase': 'Active'}}"
      ]
     },
     "execution_count": 18,
     "metadata": {},
     "output_type": "execute_result"
    }
   ],
   "source": [
    "# create a namespace\n",
    "# equivalent to command line `kubectl create namespace ns1`\n",
    "body = {}\n",
    "body['apiVersion'] = 'v1'\n",
    "body['kind'] = 'Namespace'\n",
    "body['metadata'] = {}\n",
    "body['metadata']['name'] = 'ns1'\n",
    "v1.create_namespace(body=body)"
   ]
  },
  {
   "cell_type": "code",
   "execution_count": 19,
   "metadata": {},
   "outputs": [
    {
     "data": {
      "text/plain": [
       "{'api_version': 'v1',\n",
       " 'code': None,\n",
       " 'details': None,\n",
       " 'kind': 'Namespace',\n",
       " 'message': None,\n",
       " 'metadata': {'_continue': None,\n",
       "              'resource_version': '2526',\n",
       "              'self_link': '/api/v1/namespaces/ns1'},\n",
       " 'reason': None,\n",
       " 'status': \"{u'phase': u'Terminating'}\"}"
      ]
     },
     "execution_count": 19,
     "metadata": {},
     "output_type": "execute_result"
    }
   ],
   "source": [
    "# delete a namespace\n",
    "# equivalent to command line `kubectl delete namespace ns1`\n",
    "v1.delete_namespace(name='ns1', body={})"
   ]
  },
  {
   "cell_type": "code",
   "execution_count": null,
   "metadata": {},
   "outputs": [],
   "source": []
  }
 ],
 "metadata": {
  "kernelspec": {
   "display_name": "Python 2",
   "language": "python",
   "name": "python2"
  },
  "language_info": {
   "codemirror_mode": {
    "name": "ipython",
    "version": 2
   },
   "file_extension": ".py",
   "mimetype": "text/x-python",
   "name": "python",
   "nbconvert_exporter": "python",
   "pygments_lexer": "ipython2",
   "version": "2.7.11"
  }
 },
 "nbformat": 4,
 "nbformat_minor": 2
}
