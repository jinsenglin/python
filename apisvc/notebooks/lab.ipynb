{
 "cells": [
  {
   "cell_type": "code",
   "execution_count": 18,
   "metadata": {},
   "outputs": [],
   "source": [
    "class c(object):\n",
    "    def __init__(self):\n",
    "        self.rollback_stack = []\n",
    "        self.kwargs_stack = []\n",
    "        \n",
    "    def _rollback(self, x):\n",
    "        print('rollback x = {0}'.format(x))\n",
    "        \n",
    "    def _register(self, rollback, **kwargs):\n",
    "        self.rollback_stack.append(rollback)\n",
    "        self.kwargs_stack.append(kwargs)\n",
    "        \n",
    "    def rollback(self):\n",
    "        while len(self.rollback_stack) > 0:\n",
    "            fn = self.rollback_stack.pop()\n",
    "            kwarg = self.kwargs_stack.pop()\n",
    "            fn(**kwarg)\n",
    "        \n",
    "    def run(self):\n",
    "        print('run')\n",
    "        self._register(self._rollback, x=1)\n",
    "        self.rollback()\n",
    "        "
   ]
  },
  {
   "cell_type": "code",
   "execution_count": 19,
   "metadata": {},
   "outputs": [
    {
     "name": "stdout",
     "output_type": "stream",
     "text": [
      "run\n",
      "rollback x = 1\n"
     ]
    }
   ],
   "source": [
    "c1 = c()\n",
    "c1.run()"
   ]
  },
  {
   "cell_type": "code",
   "execution_count": null,
   "metadata": {},
   "outputs": [],
   "source": []
  },
  {
   "cell_type": "code",
   "execution_count": null,
   "metadata": {},
   "outputs": [],
   "source": []
  }
 ],
 "metadata": {
  "kernelspec": {
   "display_name": "Python 2",
   "language": "python",
   "name": "python2"
  },
  "language_info": {
   "codemirror_mode": {
    "name": "ipython",
    "version": 2
   },
   "file_extension": ".py",
   "mimetype": "text/x-python",
   "name": "python",
   "nbconvert_exporter": "python",
   "pygments_lexer": "ipython2",
   "version": "2.7.11"
  }
 },
 "nbformat": 4,
 "nbformat_minor": 2
}
