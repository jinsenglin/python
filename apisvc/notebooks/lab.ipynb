{
 "cells": [
  {
   "cell_type": "code",
   "execution_count": 1,
   "metadata": {},
   "outputs": [],
   "source": [
    "import yaml"
   ]
  },
  {
   "cell_type": "code",
   "execution_count": 7,
   "metadata": {},
   "outputs": [],
   "source": [
    "data = {}\n",
    "with open(\"../samples/0000-0000-0000-0000.os.yaml\", 'r') as stream:\n",
    "    try:\n",
    "        data = yaml.load(stream) \n",
    "    except yaml.YAMLError as exc:\n",
    "        print(exc)"
   ]
  },
  {
   "cell_type": "code",
   "execution_count": 8,
   "metadata": {},
   "outputs": [
    {
     "data": {
      "text/plain": [
       "{'clouds': {'os': {'auth': {'auth_url': 'http://192.168.228.31:5000/v2.0/',\n",
       "    'password': 'jimlin',\n",
       "    'project_name': 'jimlin',\n",
       "    'username': 'jimlin'},\n",
       "   'region_name': 'RegionOne'}}}"
      ]
     },
     "execution_count": 8,
     "metadata": {},
     "output_type": "execute_result"
    }
   ],
   "source": [
    "data"
   ]
  },
  {
   "cell_type": "code",
   "execution_count": 9,
   "metadata": {},
   "outputs": [
    {
     "data": {
      "text/plain": [
       "'http://192.168.228.31:5000/v2.0/'"
      ]
     },
     "execution_count": 9,
     "metadata": {},
     "output_type": "execute_result"
    }
   ],
   "source": [
    "data['clouds']['os']['auth']['auth_url']"
   ]
  },
  {
   "cell_type": "code",
   "execution_count": 10,
   "metadata": {},
   "outputs": [
    {
     "data": {
      "text/plain": [
       "{'auth_url': 'http://192.168.228.31:5000/v2.0/',\n",
       " 'password': 'jimlin',\n",
       " 'project_name': 'jimlin',\n",
       " 'username': 'jimlin'}"
      ]
     },
     "execution_count": 10,
     "metadata": {},
     "output_type": "execute_result"
    }
   ],
   "source": [
    "data['clouds']['os']['auth']"
   ]
  },
  {
   "cell_type": "code",
   "execution_count": 11,
   "metadata": {},
   "outputs": [
    {
     "data": {
      "text/plain": [
       "'RegionOne'"
      ]
     },
     "execution_count": 11,
     "metadata": {},
     "output_type": "execute_result"
    }
   ],
   "source": [
    "data['clouds']['os']['region_name']"
   ]
  },
  {
   "cell_type": "code",
   "execution_count": 12,
   "metadata": {},
   "outputs": [
    {
     "data": {
      "text/plain": [
       "{'auth_url': 'http://192.168.228.31:5000/v2.0/',\n",
       " 'password': 'jimlin',\n",
       " 'project_name': 'jimlin',\n",
       " 'region_name': 'RegionOne',\n",
       " 'username': 'jimlin'}"
      ]
     },
     "execution_count": 12,
     "metadata": {},
     "output_type": "execute_result"
    }
   ],
   "source": [
    "d = data['clouds']['os']['auth']\n",
    "d['region_name'] = data['clouds']['os']['region_name']\n",
    "d"
   ]
  },
  {
   "cell_type": "code",
   "execution_count": 13,
   "metadata": {},
   "outputs": [],
   "source": [
    "data = {}\n",
    "with open(\"../samples/0000-0000-0000-0000.k8s.yaml\", 'r') as stream:\n",
    "    try:\n",
    "        data = yaml.load(stream) \n",
    "    except yaml.YAMLError as exc:\n",
    "        print(exc)"
   ]
  },
  {
   "cell_type": "code",
   "execution_count": 14,
   "metadata": {},
   "outputs": [
    {
     "data": {
      "text/plain": [
       "{'apiVersion': 'v1',\n",
       " 'clusters': [{'cluster': {'certificate-authority': '/Users/cclin/.minikube/ca.crt',\n",
       "    'server': 'https://192.168.99.100:8443'},\n",
       "   'name': 'minikube'}],\n",
       " 'contexts': [{'context': {'cluster': 'minikube',\n",
       "    'namespace': 'default',\n",
       "    'user': 'minikube'},\n",
       "   'name': 'minikube'}],\n",
       " 'current-context': 'minikube',\n",
       " 'kind': 'Config',\n",
       " 'preferences': {},\n",
       " 'users': [{'name': 'minikube',\n",
       "   'user': {'client-certificate': '/Users/cclin/.minikube/client.crt',\n",
       "    'client-key': '/Users/cclin/.minikube/client.key'}}]}"
      ]
     },
     "execution_count": 14,
     "metadata": {},
     "output_type": "execute_result"
    }
   ],
   "source": [
    "data"
   ]
  },
  {
   "cell_type": "code",
   "execution_count": null,
   "metadata": {},
   "outputs": [],
   "source": []
  }
 ],
 "metadata": {
  "kernelspec": {
   "display_name": "Python 2",
   "language": "python",
   "name": "python2"
  },
  "language_info": {
   "codemirror_mode": {
    "name": "ipython",
    "version": 2
   },
   "file_extension": ".py",
   "mimetype": "text/x-python",
   "name": "python",
   "nbconvert_exporter": "python",
   "pygments_lexer": "ipython2",
   "version": "2.7.11"
  }
 },
 "nbformat": 4,
 "nbformat_minor": 2
}
